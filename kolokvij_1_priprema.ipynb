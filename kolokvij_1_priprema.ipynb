{
 "cells": [
  {
   "cell_type": "markdown",
   "id": "1d10638b-54cf-4bb5-bb5b-736aa60a3892",
   "metadata": {
    "slideshow": {
     "slide_type": "slide"
    }
   },
   "source": [
    "# Kolokvij 1: priprema"
   ]
  },
  {
   "cell_type": "markdown",
   "id": "52b46e6f-8156-440d-b75b-98415aa8e0ae",
   "metadata": {
    "slideshow": {
     "slide_type": "slide"
    }
   },
   "source": [
    "Za potrebe ovog zadatka, potrebno je instalirati Google Tesseract OCR alat. \n",
    " 1. alat se nalazi u mapi na razdiobi i potrebno ga je instalirati, recimo u `D:\\Tools\\Tesseract-OCR`\n",
    " 2. spremiti HR model OCR-a `hrv.traineddata` u mapu alata `D:\\Tools\\Tesseract-OCR\\tessdata`\n",
    " "
   ]
  },
  {
   "cell_type": "markdown",
   "id": "34b11786-0637-4591-bb99-65176bb6a40d",
   "metadata": {
    "slideshow": {
     "slide_type": "slide"
    }
   },
   "source": [
    "## Zadatak 1"
   ]
  },
  {
   "cell_type": "markdown",
   "id": "13e26d43-6e93-4d69-9632-a56e220492b4",
   "metadata": {
    "slideshow": {
     "slide_type": "subslide"
    }
   },
   "source": [
    "U prilogu vam da je dana slika stranice VRH rječnika. Vaš je zadatak sljedeći:\n",
    "  1. Napravite OCR prepoznavanje teksta na slici i pretvorite u tekstualnu datoteku\n",
    "  2. Iz teksta izvući samo imenice sa opisom i gramatičkim obilježjima i spremiti u JSON datoteku prema sljedećem formatu\n",
    "  \n",
    "  \n",
    "Npr. \n",
    "\n",
    "```json\n",
    "iskopina.json\n",
    "[\n",
    "  {\n",
    "    \"rijec\": \"iskopina \",\n",
    "    \"vrsta\": \"im \",\n",
    "    \"obiljezja\": [\n",
    "      \"iskopina\",\n",
    "      \" G -e\",\n",
    "      \" mn G -Ina\"\n",
    "    ],\n",
    "    \"definicija\": \"1. -* iskop \"\n",
    "  }\n",
    "  ]\n",
    "```\n",
    "\n",
    "\n"
   ]
  },
  {
   "cell_type": "code",
   "execution_count": 5,
   "id": "c0703235-7169-4988-94dc-f7b19f002f5a",
   "metadata": {
    "slideshow": {
     "slide_type": "subslide"
    }
   },
   "outputs": [],
   "source": [
    "#!/opt/anaconda3/bin/pip install pytesseract\n",
    "from PIL import Image\n",
    "import pytesseract\n",
    "# ako  Windows\n",
    "# pytesseract.pytesseract.tesseract_cmd = 'C:\\\\Tools\\\\Tesseract-OCR\\\\tesseract.exe'\n"
   ]
  },
  {
   "cell_type": "code",
   "execution_count": 7,
   "id": "ba86bf10-198c-4c1d-9fa8-57819e1e832f",
   "metadata": {
    "slideshow": {
     "slide_type": "subslide"
    }
   },
   "outputs": [
    {
     "name": "stdout",
     "output_type": "stream",
     "text": [
      "['equ', 'osd', 'eng', 'hrv']\n"
     ]
    }
   ],
   "source": [
    "print(pytesseract.get_languages(config=''))"
   ]
  },
  {
   "cell_type": "code",
   "execution_count": 11,
   "id": "feacebce-0125-4676-b841-016935631052",
   "metadata": {
    "slideshow": {
     "slide_type": "subslide"
    }
   },
   "outputs": [],
   "source": [
    "ocr = pytesseract.image_to_string(Image.open('vrh.jpg'),lang='hrv')"
   ]
  },
  {
   "cell_type": "code",
   "execution_count": 13,
   "id": "2da3c2df-8b2d-4d46-88ae-44ad3005d4a3",
   "metadata": {
    "slideshow": {
     "slide_type": "subslide"
    }
   },
   "outputs": [
    {
     "name": "stdout",
     "output_type": "stream",
     "text": [
      "anerltropsiia i'm ž (aneritropsija; G é) PAT sljepoća za ere\n",
      "venu boju, nesposobnost očiju da zamjećuju crvenu boju\n",
      "© nim., ADI-, ERITRO-, -0PSUA\n",
      "\n",
      "aneroid im m (aneroid; G aneroida; mn N ancrofdi, G ane-\n",
      "roidá) MET barometar bez žive s elastičnim metalnim pei-i»\n",
      "ma, točnost mu je manja od živinoga baron-letra [koristili\n",
      "anemia'] © prema grč.\n",
      "\n",
      "anestetičan rid (anestetičan, anestetična, anestčtično; G\n",
      "-čna; odr -čni, G -čn6g(a)> koji prouzročuje anesteziju,\n",
      "koji čini koga neosjetljivim na bol lanesreličnn sredstva]\n",
      "\n",
      "anestetičar im m (anestetičar; G -a, V -e/-u; mn N -i, G -'Z\\)\n",
      "MED 1. medicinski tehničari medicinska sestra koji pomažu\n",
      "tijekom anestezije; za svoj rad odgovaraju liječniku ane»\n",
      "steziologu [kongres / udruženje anestetičaral 2. PREN onaj\n",
      "koji djeluje poput anestezije [Anestetičari knj evnoxti, koji\n",
      "od estetike prave palicu i od književnoga poprišta groblje\n",
      "još prije boja.] © —> anestezija\n",
      "\n",
      "anestetičarka im ž (anestetičárka; G —e, DL -i; mn G —á/-i)\n",
      "MED ž moe par od anestetičar\n",
      "\n",
      "\n"
     ]
    }
   ],
   "source": [
    "print(ocr)"
   ]
  },
  {
   "cell_type": "code",
   "execution_count": 96,
   "id": "65dbb7a3-50d1-4f98-9032-ec12aba4c89f",
   "metadata": {
    "slideshow": {
     "slide_type": "subslide"
    }
   },
   "outputs": [],
   "source": [
    "import re\n",
    "entries = re.split(r'\\n\\n',ocr)\n",
    "regex_gram = '((\\w+)\\s+(im)\\s+(m|ž|s)\\s+(\\(.*?\\)))'\n",
    "regex_def =  '.*?([A-Z]+?)(\\w+)'\n",
    "import json\n",
    "\n",
    "for data in entries:\n",
    "    lex = {}\n",
    "    mObj = re.match(regex_gram,data,re.MULTILINE | re.DOTALL)\n",
    "    if mObj:\n",
    "        lex['riječ'], lex['tip'], lex['rod'], lex['gramatička obilježja'] =  mObj.group(2), mObj.group(3), mObj.group(4), mObj.group(5)        \n",
    "        lex['definicija'] = data.partition(mObj.group(1))[2]\n",
    "        \n",
    "        jsonObj = json.dumps(lex)\n",
    "        \n",
    "        with open(f\"{lex['riječ']}.json\", \"w\") as outfile:\n",
    "            outfile.write(jsonObj)\n",
    "        \n",
    "        \n",
    "        \n",
    "        \n",
    "        \n",
    "        \n",
    "        \n",
    "\n"
   ]
  },
  {
   "cell_type": "markdown",
   "id": "a668e0c2-9091-429d-b141-fce925293746",
   "metadata": {
    "slideshow": {
     "slide_type": "slide"
    }
   },
   "source": [
    "## Zadatak 2"
   ]
  },
  {
   "cell_type": "markdown",
   "id": "71f2ea97-c5f0-4912-ac05-2eb00b643ca7",
   "metadata": {
    "slideshow": {
     "slide_type": "subslide"
    }
   },
   "source": [
    "U ovom zadatku potrebno je izgraditi n-gramski model za tekstove HR jezika koji su dani u prilogu. Tekstovi su dani u .txt formatu.\n",
    "\n",
    "Učinite sljedeće:\n",
    "  1. Izgradite skup za treniranje na kojem ćete naučiti model (80% rečenica korpusa). Evaluirajte model uz pomoć mjere perpleksnosti na skupu za testiranje (20%). Na tekstu primijenite neku od normalizacijskih  tehnika kako bi dobili što bolju perpleksnost. \n",
    "  2. Pored MLE procjenitelja, koristite barem metodu zaglađivanja i interpolacije. Odaberite onu metodu koja daje najbolju perpleksnost. \n",
    "  3. Generirajte nekoliko rečenica iz najboljeg modela\n",
    "\n"
   ]
  },
  {
   "cell_type": "code",
   "execution_count": 111,
   "id": "7c751aed-8f76-4433-b99c-dfde2e6c313c",
   "metadata": {
    "slideshow": {
     "slide_type": "subslide"
    }
   },
   "outputs": [],
   "source": [
    "import io\n",
    "\n",
    "with io.open('kafka-preobrazaj3.txt', encoding='utf8') as fin:\n",
    "    text = fin.read()"
   ]
  },
  {
   "cell_type": "code",
   "execution_count": 112,
   "id": "bf94360e-8ec4-489d-89aa-b70b9c8c83ce",
   "metadata": {
    "slideshow": {
     "slide_type": "subslide"
    }
   },
   "outputs": [],
   "source": [
    "import nltk\n",
    "from nltk.tokenize import sent_tokenize, word_tokenize\n",
    "from nltk.lm.preprocessing import padded_everygram_pipeline\n",
    "from nltk.util import bigrams, ngrams\n",
    "from nltk.lm.models import MLE, Laplace\n",
    "from sklearn.model_selection import train_test_split"
   ]
  },
  {
   "cell_type": "code",
   "execution_count": 121,
   "id": "aab8e8b1-2b2e-48ab-abf8-97316fe48045",
   "metadata": {
    "slideshow": {
     "slide_type": "subslide"
    }
   },
   "outputs": [
    {
     "name": "stdout",
     "output_type": "stream",
     "text": [
      "'a', 'ako', 'ali', 'bi', 'bih', 'bila', 'bili', 'bilo', 'bio', 'bismo', 'biste', 'biti', 'bumo', 'da', 'do', 'duž', 'ga', 'hoće', 'hoćemo', 'hoćete', 'hoćeš', 'hoću', 'i', 'iako', 'ih', 'ili', 'iz', 'ja', 'je', 'jedna', 'jedne', 'jedno', 'jer', 'jesam', 'jesi', 'jesmo', 'jest', 'jeste', 'jesu', 'jim', 'joj', 'još', 'ju', 'kada', 'kako', 'kao', 'koja', 'koje', 'koji', 'kojima', 'koju', 'kroz', 'li', 'me', 'mene', 'meni', 'mi', 'mimo', 'moj', 'moja', 'moje', 'mu', 'na', 'nad', 'nakon', 'nam', 'nama', 'nas', 'naš', 'naša', 'naše', 'našeg', 'ne', 'nego', 'neka', 'neki', 'nekog', 'neku', 'nema', 'netko', 'neće', 'nećemo', 'nećete', 'nećeš', 'neću', 'nešto', 'ni', 'nije', 'nikoga', 'nikoje', 'nikoju', 'nisam', 'nisi', 'nismo', 'niste', 'nisu', 'njega', 'njegov', 'njegova', 'njegovo', 'njemu', 'njezin', 'njezina', 'njezino', 'njih', 'njihov', 'njihova', 'njihovo', 'njim', 'njima', 'njoj', 'nju', 'no', 'o', 'od', 'odmah', 'on', 'ona', 'oni', 'ono', 'ova', 'pa', 'pak', 'po', 'pod', 'pored', 'prije', 's', 'sa', 'sam', 'samo', 'se', 'sebe', 'sebi', 'si', 'smo', 'ste', 'su', 'sve', 'svi', 'svog', 'svoj', 'svoja', 'svoje', 'svom', 'ta', 'tada', 'taj', 'tako', 'te', 'tebe', 'tebi', 'ti', 'to', 'toj', 'tome', 'tu', 'tvoj', 'tvoja', 'tvoje', 'u', 'uz', 'vam', 'vama', 'vas', 'vaš', 'vaša', 'vaše', 'već', 'vi', 'vrlo', 'za', 'zar', 'će', 'ćemo,ćete,ćeš,', 'ću,', 'što', '–', '=', '.', '..', '...', '-', '/', '\"', \"'\", ',', ':', ';', '_', '<', '+', '*', '!', '?', '%', '#', '$', '^', '&', \"''\", '``', '(', ')', '{', '}', '[', ']'\n"
     ]
    }
   ],
   "source": [
    "# tokenizacija i normalizacija \n",
    "with open('hr_stopwords.txt') as f:\n",
    "    stopWordsCro= f.read()\n",
    "\n",
    "print(stopWordsCro)"
   ]
  },
  {
   "cell_type": "code",
   "execution_count": 99,
   "id": "9749f978-a926-4407-882b-36404ba0548d",
   "metadata": {
    "slideshow": {
     "slide_type": "subslide"
    }
   },
   "outputs": [
    {
     "data": {
      "text/plain": [
       "['franz',\n",
       " 'kafka',\n",
       " 'preobražaj',\n",
       " 's',\n",
       " 'njemačkog',\n",
       " 'preveo',\n",
       " 'zlatko',\n",
       " 'gorjan',\n",
       " 'projekt',\n",
       " 'je',\n",
       " 'sufinancirala',\n",
       " 'europska',\n",
       " 'unija',\n",
       " 'iz',\n",
       " 'europskog',\n",
       " 'socijalnog',\n",
       " 'fonda',\n",
       " '.']"
      ]
     },
     "execution_count": 99,
     "metadata": {},
     "output_type": "execute_result"
    }
   ],
   "source": [
    "preprocess_text = [list(map(str.lower, word_tokenize(sent))) for sent in sent_tokenize(text)]\n",
    "tokenized_text = []\n",
    "\n",
    "for i in preprocess_text:\n",
    "    tokenized_text.append([w for w in i if not w in stopWordsCro])\n",
    "tokenized_text[0]"
   ]
  },
  {
   "cell_type": "code",
   "execution_count": 100,
   "id": "2baeed58-d1b6-4ef2-9c24-c218b24a0783",
   "metadata": {
    "slideshow": {
     "slide_type": "subslide"
    }
   },
   "outputs": [],
   "source": [
    "trainSet, testSet = train_test_split(tokenized_text, test_size = 0.2, random_state = 27381)"
   ]
  },
  {
   "cell_type": "code",
   "execution_count": 101,
   "id": "04067c1a-30b3-4e61-81f7-86fd5d7969be",
   "metadata": {
    "slideshow": {
     "slide_type": "subslide"
    }
   },
   "outputs": [],
   "source": [
    "n = 4\n",
    "train_data, padded_sents = padded_everygram_pipeline(n, trainSet)"
   ]
  },
  {
   "cell_type": "code",
   "execution_count": 85,
   "id": "1ab94ca2-1043-49da-9e01-8573e7fdcb0e",
   "metadata": {
    "slideshow": {
     "slide_type": "subslide"
    }
   },
   "outputs": [],
   "source": [
    "# treniranje i evaluacija modela\n",
    "mleModel = MLE(n)\n",
    "mleModel.fit(train_data, padded_sents)"
   ]
  },
  {
   "cell_type": "code",
   "execution_count": 102,
   "id": "abae61ca-d2ec-4a52-87d6-ec05cf256caf",
   "metadata": {
    "slideshow": {
     "slide_type": "subslide"
    }
   },
   "outputs": [
    {
     "data": {
      "text/plain": [
       "('franz',\n",
       " 'kafka',\n",
       " 'preobražaj',\n",
       " '<UNK>',\n",
       " 'njemačkog',\n",
       " 'preveo',\n",
       " 'zlatko',\n",
       " 'gorjan',\n",
       " 'projekt',\n",
       " '<UNK>',\n",
       " 'sufinancirala',\n",
       " 'europska',\n",
       " 'unija',\n",
       " '<UNK>',\n",
       " 'europskog',\n",
       " 'socijalnog',\n",
       " 'fonda',\n",
       " '<UNK>')"
      ]
     },
     "execution_count": 102,
     "metadata": {},
     "output_type": "execute_result"
    }
   ],
   "source": [
    "mleModel.vocab.lookup(tokenized_text[0])"
   ]
  },
  {
   "cell_type": "code",
   "execution_count": 103,
   "id": "68334176-f0a7-42d4-851a-06131d3b9c79",
   "metadata": {
    "slideshow": {
     "slide_type": "subslide"
    }
   },
   "outputs": [
    {
     "data": {
      "text/plain": [
       "inf"
      ]
     },
     "execution_count": 103,
     "metadata": {},
     "output_type": "execute_result"
    }
   ],
   "source": [
    "mleModel.perplexity(testSet)"
   ]
  },
  {
   "cell_type": "code",
   "execution_count": 104,
   "id": "1d12f478-88b5-4656-b7c7-a4e8d1233b7d",
   "metadata": {
    "slideshow": {
     "slide_type": "subslide"
    }
   },
   "outputs": [],
   "source": [
    "# Laplace-ov model\n",
    "train_data, padded_sents = padded_everygram_pipeline(n, trainSet)\n",
    "\n",
    "lapModel = Laplace(n)\n",
    "lapModel.fit(train_data, padded_sents)"
   ]
  },
  {
   "cell_type": "code",
   "execution_count": 105,
   "id": "53dba7ee-a71f-4b9c-b238-a9ea9e0c6829",
   "metadata": {
    "slideshow": {
     "slide_type": "subslide"
    }
   },
   "outputs": [
    {
     "data": {
      "text/plain": [
       "('franz',\n",
       " 'kafka',\n",
       " 'preobražaj',\n",
       " 's',\n",
       " 'njemačkog',\n",
       " 'preveo',\n",
       " 'zlatko',\n",
       " 'gorjan',\n",
       " 'projekt',\n",
       " 'je',\n",
       " 'sufinancirala',\n",
       " 'europska',\n",
       " 'unija',\n",
       " 'iz',\n",
       " 'europskog',\n",
       " 'socijalnog',\n",
       " 'fonda',\n",
       " '.')"
      ]
     },
     "execution_count": 105,
     "metadata": {},
     "output_type": "execute_result"
    }
   ],
   "source": [
    "lapModel.vocab.lookup(tokenized_text[0])"
   ]
  },
  {
   "cell_type": "code",
   "execution_count": 106,
   "id": "a4981bf4-02e1-4ebd-8fc0-0e555bd4ed8c",
   "metadata": {
    "slideshow": {
     "slide_type": "subslide"
    }
   },
   "outputs": [
    {
     "data": {
      "text/plain": [
       "4935.999999999932"
      ]
     },
     "execution_count": 106,
     "metadata": {},
     "output_type": "execute_result"
    }
   ],
   "source": [
    "lapModel.perplexity(testSet)"
   ]
  },
  {
   "cell_type": "code",
   "execution_count": 107,
   "id": "987b2a98-c267-4058-b1dd-c04d9ac178c3",
   "metadata": {
    "slideshow": {
     "slide_type": "subslide"
    }
   },
   "outputs": [],
   "source": [
    "# generiranje rečenica\n",
    "from nltk.tokenize.treebank import TreebankWordDetokenizer\n",
    "\n",
    "def generate_sent(model, num_words, random_seed=42):\n",
    "    content = []\n",
    "    for token in model.generate(num_words, random_seed=random_seed):\n",
    "        if token == '<s>':\n",
    "            continue\n",
    "        if token == '</s>':\n",
    "            break\n",
    "        content.append(token)\n",
    "    return TreebankWordDetokenizer().detokenize(content)"
   ]
  },
  {
   "cell_type": "code",
   "execution_count": 108,
   "id": "9917b8c9-d582-40b9-a370-ceb573825ecf",
   "metadata": {
    "slideshow": {
     "slide_type": "subslide"
    }
   },
   "outputs": [
    {
     "data": {
      "text/plain": [
       "'sigurnije dostigao prokurista bit slutio poskočio grabeći nekoliko stepenica najedanput'"
      ]
     },
     "execution_count": 108,
     "metadata": {},
     "output_type": "execute_result"
    }
   ],
   "source": [
    "generate_sent(mleModel, 10, random_seed=1000)"
   ]
  },
  {
   "cell_type": "code",
   "execution_count": 109,
   "id": "7b0e3ab8-0043-4a00-8ed8-7beb6db72c5d",
   "metadata": {
    "slideshow": {
     "slide_type": "subslide"
    }
   },
   "outputs": [
    {
     "data": {
      "text/plain": [
       "'sestrin šapat da obavijesti gregora: » gregore, gregore'"
      ]
     },
     "execution_count": 109,
     "metadata": {},
     "output_type": "execute_result"
    }
   ],
   "source": [
    "generate_sent(lapModel, 10, random_seed=1000)"
   ]
  },
  {
   "cell_type": "markdown",
   "id": "9d306765-3b5c-444f-a4f9-d2e26270021d",
   "metadata": {
    "slideshow": {
     "slide_type": "slide"
    }
   },
   "source": [
    "## Zadatak 3 "
   ]
  },
  {
   "cell_type": "markdown",
   "id": "26008062-2ff9-4074-aa7d-3d65c4e5c19a",
   "metadata": {
    "slideshow": {
     "slide_type": "subslide"
    }
   },
   "source": [
    "Napišite PSG gramatiku koja prepoznaje sljedeću rečenicu:\n",
    "\n",
    "``` \n",
    "    vidio sam astronaute s teleskopima, \n",
    "    vidim astronauta bez teleskopa\n",
    "    Marko je vidio astronaute s teleskopima\n",
    "```\n",
    "\n",
    "Parser mora na adekvatan način pridružiti POS oznake riječima. Isto tako, gramatika mora sadržavati imenske, glagolske i prijedložne fraze.\n"
   ]
  },
  {
   "cell_type": "code",
   "execution_count": 110,
   "id": "10475a1c-6a85-47b7-a172-300184e462ba",
   "metadata": {
    "slideshow": {
     "slide_type": "subslide"
    }
   },
   "outputs": [],
   "source": [
    "import nltk\n",
    "from nltk2tikz import show_parse\n",
    "from nltk.tokenize import word_tokenize\n",
    "\n",
    "# HR grammar\n",
    "hr_grammar = nltk.CFG.fromstring(\"\"\"\n",
    "# production rules\n",
    "S -> VP NP \n",
    "PP -> P NP   \n",
    "NP -> N | N PP | NNP \n",
    "VP -> VP NP | NP VP\n",
    "VP -> V | V AUX | AUX V \n",
    "# lexical rules\n",
    "NNP -> 'Marko' | 'Ivan'\n",
    "N -> 'astronaute' | 'astronauta' |'teleskopom' | 'teleskopima' | 'teleskopa'\n",
    "V -> 'vidjeti' | 'vidio' | 'vidim'\n",
    "AUX -> 'sam' | 'je' | 'sa'\n",
    "P -> 'u' | 's' | 'po' | 'bez'\n",
    "\"\"\")\n",
    "\n",
    "\n",
    "# testiranje\n",
    "sents = ['vidio sam astronaute s teleskopima', 'vidim astronauta bez teleskopa', 'Marko je vidio astronaute s teleskopima'  ]\n",
    "sent = word_tokenize(sents[2])\n",
    "\n",
    "\n",
    "\n",
    "# nekoliko stabala ...\n",
    "parser = nltk.ChartParser(hr_grammar) # ili RecursiveDescentParser\n",
    "\n",
    "hr_trees = list(parser.parse(sent))\n",
    "\n",
    "\n",
    "\n"
   ]
  },
  {
   "cell_type": "code",
   "execution_count": 36,
   "id": "07f0f57d-b53f-4999-bfdb-bfcf94e57214",
   "metadata": {},
   "outputs": [
    {
     "name": "stdout",
     "output_type": "stream",
     "text": [
      "No X server, using TikZ engine ...\n"
     ]
    },
    {
     "data": {
      "image/jpeg": "[encoded data removed]",
      "text/plain": [
       "<IPython.core.display.Image object>"
      ]
     },
     "execution_count": 36,
     "metadata": {
      "image/jpeg": {
       "unconfined": true,
       "width": 400
      }
     },
     "output_type": "execute_result"
    }
   ],
   "source": [
    "show_parse(hr_trees[0])"
   ]
  },
  {
   "cell_type": "code",
   "execution_count": null,
   "id": "9108120c-a1c7-49c7-9e41-b2f201b4c606",
   "metadata": {},
   "outputs": [],
   "source": []
  }
 ],
 "metadata": {
  "celltoolbar": "Slideshow",
  "kernelspec": {
   "display_name": "Python 3",
   "language": "python",
   "name": "python3"
  },
  "language_info": {
   "codemirror_mode": {
    "name": "ipython",
    "version": 3
   },
   "file_extension": ".py",
   "mimetype": "text/x-python",
   "name": "python",
   "nbconvert_exporter": "python",
   "pygments_lexer": "ipython3",
   "version": "3.8.8"
  }
 },
 "nbformat": 4,
 "nbformat_minor": 5
}
